{
  "nbformat": 4,
  "nbformat_minor": 0,
  "metadata": {
    "colab": {
      "provenance": []
    },
    "kernelspec": {
      "name": "python3",
      "display_name": "Python 3"
    },
    "language_info": {
      "name": "python"
    }
  },
  "cells": [
    {
      "cell_type": "code",
      "execution_count": 1,
      "metadata": {
        "id": "ZbU0iv-hsabE"
      },
      "outputs": [],
      "source": [
        "from bs4 import BeautifulSoup"
      ]
    },
    {
      "cell_type": "code",
      "source": [
        "import requests,pandas as pd"
      ],
      "metadata": {
        "id": "8lKvxzyY-u-n"
      },
      "execution_count": 16,
      "outputs": []
    },
    {
      "cell_type": "code",
      "source": [
        "URL = \"https://www.amazon.in/s?k=bags&crid=2M096C61O4MLT&qid=1653308124&sprefix=ba%2Caps%2C283&ref=sr_pg_1\"\n"
      ],
      "metadata": {
        "id": "SfcDlZgp-zF3"
      },
      "execution_count": 303,
      "outputs": []
    },
    {
      "cell_type": "code",
      "source": [
        "HEADERS = ({'User-Agent':'Mozilla/5.0 (Windows NT 10.0; Win64; x64) AppleWebKit/537.36 (KHTML, like Gecko) Chrome/109.0.0.0 Safari/537.36','Accept-Language': 'en-US, en;q=0.5'})"
      ],
      "metadata": {
        "id": "SVgeP3gJ_Kem"
      },
      "execution_count": 304,
      "outputs": []
    },
    {
      "cell_type": "code",
      "source": [
        "webpage = requests.get(URL,headers=HEADERS)"
      ],
      "metadata": {
        "id": "LvsmAE_s_lHW"
      },
      "execution_count": 305,
      "outputs": []
    },
    {
      "cell_type": "code",
      "source": [
        "webpage"
      ],
      "metadata": {
        "colab": {
          "base_uri": "https://localhost:8080/"
        },
        "id": "2Pl87DO5_u8o",
        "outputId": "9ad3e88c-6730-4bc2-f8cd-d28c4ea4f7d4"
      },
      "execution_count": 306,
      "outputs": [
        {
          "output_type": "execute_result",
          "data": {
            "text/plain": [
              "<Response [503]>"
            ]
          },
          "metadata": {},
          "execution_count": 306
        }
      ]
    },
    {
      "cell_type": "code",
      "source": [
        "type(webpage.content)"
      ],
      "metadata": {
        "colab": {
          "base_uri": "https://localhost:8080/"
        },
        "id": "mbzPv0A3_wFG",
        "outputId": "815e12b3-60bf-4bad-b77f-5eac78831ca5"
      },
      "execution_count": 307,
      "outputs": [
        {
          "output_type": "execute_result",
          "data": {
            "text/plain": [
              "bytes"
            ]
          },
          "metadata": {},
          "execution_count": 307
        }
      ]
    },
    {
      "cell_type": "code",
      "source": [
        "soup = BeautifulSoup(webpage.content,'html.parser')"
      ],
      "metadata": {
        "id": "rK9Fq3x4_yso"
      },
      "execution_count": 309,
      "outputs": []
    },
    {
      "cell_type": "code",
      "source": [
        "required = soup.find_all('div',{'data-component-type':'s-search-result'})"
      ],
      "metadata": {
        "id": "pauf-kIyCCyP"
      },
      "execution_count": 292,
      "outputs": []
    },
    {
      "cell_type": "code",
      "source": [
        "def create_required(URL):\n",
        "  webpage = requests.get(URL,headers=HEADERS)\n",
        "  soup = BeautifulSoup(webpage.content,'html.parser')\n",
        "  required = soup.find_all('div',{'data-component-type':'s-search-result'})\n",
        "  return required\n"
      ],
      "metadata": {
        "id": "eh9IkzjavTW7"
      },
      "execution_count": 293,
      "outputs": []
    },
    {
      "cell_type": "code",
      "source": [
        "required[0]"
      ],
      "metadata": {
        "colab": {
          "base_uri": "https://localhost:8080/",
          "height": 166
        },
        "id": "9yV6P-5tFYYL",
        "outputId": "88755fdf-3d49-4fd1-c2e9-b1a88e28e504"
      },
      "execution_count": 295,
      "outputs": [
        {
          "output_type": "error",
          "ename": "IndexError",
          "evalue": "ignored",
          "traceback": [
            "\u001b[0;31m---------------------------------------------------------------------------\u001b[0m",
            "\u001b[0;31mIndexError\u001b[0m                                Traceback (most recent call last)",
            "\u001b[0;32m<ipython-input-295-6f382d110d38>\u001b[0m in \u001b[0;36m<module>\u001b[0;34m\u001b[0m\n\u001b[0;32m----> 1\u001b[0;31m \u001b[0mrequired\u001b[0m\u001b[0;34m[\u001b[0m\u001b[0;36m0\u001b[0m\u001b[0;34m]\u001b[0m\u001b[0;34m\u001b[0m\u001b[0;34m\u001b[0m\u001b[0m\n\u001b[0m",
            "\u001b[0;31mIndexError\u001b[0m: list index out of range"
          ]
        }
      ]
    },
    {
      "cell_type": "code",
      "source": [
        "atag = required[0].h2.a"
      ],
      "metadata": {
        "id": "iXf3g5LXGAhH"
      },
      "execution_count": 45,
      "outputs": []
    },
    {
      "cell_type": "code",
      "source": [
        "description = atag.text.strip()"
      ],
      "metadata": {
        "id": "_b1l3AeUKFgm"
      },
      "execution_count": 47,
      "outputs": []
    },
    {
      "cell_type": "code",
      "source": [
        "description"
      ],
      "metadata": {
        "colab": {
          "base_uri": "https://localhost:8080/",
          "height": 35
        },
        "id": "_ESuiBs0KQ87",
        "outputId": "92df0e6f-5d10-46b7-d1b9-b7c1aff1ebf1"
      },
      "execution_count": 48,
      "outputs": [
        {
          "output_type": "execute_result",
          "data": {
            "text/plain": [
              "'American Tourister 32 Ltrs Black Casual Backpack (AMT FIZZ SCH BAG 02 - BLACK)'"
            ],
            "application/vnd.google.colaboratory.intrinsic+json": {
              "type": "string"
            }
          },
          "metadata": {},
          "execution_count": 48
        }
      ]
    },
    {
      "cell_type": "code",
      "source": [
        "to_url = 'https://amazon.in' + atag.get('href')"
      ],
      "metadata": {
        "id": "7Jv0Hg6oKawt"
      },
      "execution_count": 52,
      "outputs": []
    },
    {
      "cell_type": "code",
      "source": [
        "to_url"
      ],
      "metadata": {
        "colab": {
          "base_uri": "https://localhost:8080/",
          "height": 35
        },
        "id": "4mRAf8ZhKqxp",
        "outputId": "fadff8c8-ff30-40b7-860b-3125f7a68acb"
      },
      "execution_count": 53,
      "outputs": [
        {
          "output_type": "execute_result",
          "data": {
            "text/plain": [
              "'https://amazon.in/American-Tourister-AMT-SCH-02/dp/B07CJCGM1M/ref=sr_1_1?crid=2M096C61O4MLT&keywords=bags&qid=1675272154&sprefix=ba%2Caps%2C283&sr=8-1'"
            ],
            "application/vnd.google.colaboratory.intrinsic+json": {
              "type": "string"
            }
          },
          "metadata": {},
          "execution_count": 53
        }
      ]
    },
    {
      "cell_type": "code",
      "source": [
        "item = required[0]"
      ],
      "metadata": {
        "id": "9GMf77t5LawC"
      },
      "execution_count": 54,
      "outputs": []
    },
    {
      "cell_type": "code",
      "source": [
        "price_parent = item.find('span','a-price')"
      ],
      "metadata": {
        "id": "lF4FOpEnKuH7"
      },
      "execution_count": 55,
      "outputs": []
    },
    {
      "cell_type": "code",
      "source": [
        "price = price_parent.find('span','a-offscreen')"
      ],
      "metadata": {
        "id": "CsZ5tbZdLc2b"
      },
      "execution_count": 65,
      "outputs": []
    },
    {
      "cell_type": "code",
      "source": [
        "price = price.text.strip()"
      ],
      "metadata": {
        "id": "qBxQAOTGLtlq"
      },
      "execution_count": 69,
      "outputs": []
    },
    {
      "cell_type": "code",
      "source": [
        "item\n"
      ],
      "metadata": {
        "colab": {
          "base_uri": "https://localhost:8080/"
        },
        "id": "qy5Em8utNBWJ",
        "outputId": "01a6f119-20c6-4a53-890b-4a5b03d6e865"
      },
      "execution_count": 72,
      "outputs": [
        {
          "output_type": "execute_result",
          "data": {
            "text/plain": [
              "<div class=\"sg-col-20-of-24 s-result-item s-asin sg-col-0-of-12 sg-col-16-of-20 sg-col s-widget-spacing-small sg-col-12-of-16\" data-asin=\"B07CJCGM1M\" data-component-type=\"s-search-result\" data-index=\"2\" data-uuid=\"9db3efe6-2372-4b1c-ac78-f5105b5d7a68\"><div class=\"sg-col-inner\"><div cel_widget_id=\"MAIN-SEARCH_RESULTS-2\" class=\"s-widget-container s-spacing-small s-widget-container-height-small celwidget slot=MAIN template=SEARCH_RESULTS widgetId=search-results_1\" data-csa-c-item-id=\"amzn1.asin.1.B07CJCGM1M\" data-csa-c-pos=\"1\" data-csa-c-type=\"item\" data-csa-op-log-render=\"\"><div class=\"s-card-container s-overflow-hidden aok-relative puis-include-content-margin puis s-latency-cf-section s-card-border\"><div class=\"a-section\"><div class=\"sg-row\"><div class=\"sg-col sg-col-4-of-12 sg-col-4-of-16 sg-col-4-of-20 s-list-col-left\"><div class=\"sg-col-inner\"><div class=\"a-section a-spacing-none aok-relative puis-status-badge-container s-list-status-badge-container\"><div class=\"a-section a-spacing-none s-badge-spacing\"><a class=\"a-link-normal s-underline-text s-underline-link-text s-link-style\" href=\"/gp/bestsellers/luggage/2917444031/ref=sr_bs_0_2917444031_1\"><span class=\"rush-component\" data-component-props='{\"badgeType\":\"best-seller\",\"asin\":\"B07CJCGM1M\"}' data-component-type=\"s-status-badge-component\"><div class=\"a-row a-badge-region\"><span aria-labelledby=\"B07CJCGM1M-best-seller-label B07CJCGM1M-best-seller-supplementary\" class=\"a-badge\" data-a-badge-supplementary-position=\"right\" data-a-badge-type=\"status\" id=\"B07CJCGM1M-best-seller\" tabindex=\"0\"><span aria-hidden=\"true\" class=\"a-badge-label\" data-a-badge-color=\"sx-orange\" id=\"B07CJCGM1M-best-seller-label\"><span class=\"a-badge-label-inner a-text-ellipsis\"><span class=\"a-badge-text\" data-a-badge-color=\"sx-cloud\">Best seller</span></span></span><span aria-hidden=\"true\" class=\"a-badge-supplementary-text a-text-ellipsis\" id=\"B07CJCGM1M-best-seller-supplementary\">in School Bags</span></span></div></span> </a> </div></div><div class=\"s-product-image-container aok-relative s-text-center s-image-overlay-grey s-padding-left-small s-padding-right-small s-flex-expand-height\"><div class=\"aok-relative\"><span class=\"rush-component\" data-component-type=\"s-product-image\"><a class=\"a-link-normal s-no-outline\" href=\"/American-Tourister-AMT-SCH-02/dp/B07CJCGM1M/ref=sr_1_1?crid=2M096C61O4MLT&amp;keywords=bags&amp;qid=1675272154&amp;sprefix=ba%2Caps%2C283&amp;sr=8-1\" target=\"_blank\"><div class=\"a-section aok-relative s-image-fixed-height\"><img alt=\"American Tourister 32 Ltrs Black Casual Backpack (AMT FIZZ SCH BAG 02 - BLACK)\" class=\"s-image\" data-image-index=\"1\" data-image-latency=\"s-product-image\" data-image-load=\"\" data-image-source-density=\"1\" src=\"https://m.media-amazon.com/images/I/81KEKEDFUcL._AC_UY218_.jpg\" srcset=\"https://m.media-amazon.com/images/I/81KEKEDFUcL._AC_UY218_.jpg 1x, https://m.media-amazon.com/images/I/81KEKEDFUcL._AC_UY327_QL65_.jpg 1.5x, https://m.media-amazon.com/images/I/81KEKEDFUcL._AC_UY436_QL65_.jpg 2x, https://m.media-amazon.com/images/I/81KEKEDFUcL._AC_UY545_QL65_.jpg 2.5x, https://m.media-amazon.com/images/I/81KEKEDFUcL._AC_UY654_QL65_.jpg 3x\"/></div></a></span></div></div></div></div><div class=\"sg-col sg-col-4-of-12 sg-col-8-of-16 sg-col-12-of-20 s-list-col-right\"><div class=\"sg-col-inner\"><div class=\"a-section a-spacing-small a-spacing-top-small\"><div class=\"a-section a-spacing-none puis-padding-right-small s-title-instructions-style\"><h2 class=\"a-size-mini a-spacing-none a-color-base s-line-clamp-2\"><a class=\"a-link-normal s-underline-text s-underline-link-text s-link-style a-text-normal\" href=\"/American-Tourister-AMT-SCH-02/dp/B07CJCGM1M/ref=sr_1_1?crid=2M096C61O4MLT&amp;keywords=bags&amp;qid=1675272154&amp;sprefix=ba%2Caps%2C283&amp;sr=8-1\" target=\"_blank\"><span class=\"a-size-medium a-color-base a-text-normal\">American Tourister 32 Ltrs Black Casual Backpack (AMT FIZZ SCH BAG 02 - BLACK)</span> </a> </h2></div><div class=\"a-section a-spacing-none a-spacing-top-micro\"><div class=\"a-row a-size-small\"><span aria-label=\"4.1 out of 5 stars\"><span class=\"a-declarative\" data-a-popover='{\"closeButton\":false,\"closeButtonLabel\":\"\",\"position\":\"triggerBottom\",\"popoverLabel\":\"\",\"url\":\"/review/widgets/average-customer-review/popover/ref=acr_search__popover?ie=UTF8&amp;asin=B07CJCGM1M&amp;ref=acr_search__popover&amp;contextId=search\"}' data-action=\"a-popover\" data-csa-c-func-deps=\"aui-da-a-popover\" data-csa-c-type=\"widget\"><a class=\"a-popover-trigger a-declarative\" href=\"javascript:void(0)\" role=\"button\"><i class=\"a-icon a-icon-star-small a-star-small-4 aok-align-bottom\"><span class=\"a-icon-alt\">4.1 out of 5 stars</span></i><i class=\"a-icon a-icon-popover\"></i></a></span> </span><span aria-label=\"51,350\"><a class=\"a-link-normal s-underline-text s-underline-link-text s-link-style\" href=\"/American-Tourister-AMT-SCH-02/dp/B07CJCGM1M/ref=sr_1_1?crid=2M096C61O4MLT&amp;keywords=bags&amp;qid=1675272154&amp;sprefix=ba%2Caps%2C283&amp;sr=8-1#customerReviews\" target=\"_blank\"><span class=\"a-size-base s-underline-text\">51,350</span> </a> </span></div></div><div class=\"sg-row\"><div class=\"sg-col sg-col-4-of-12 sg-col-4-of-16 sg-col-4-of-20\"><div class=\"sg-col-inner\"><div class=\"a-section a-spacing-none a-spacing-top-micro s-price-instructions-style\"><div class=\"a-row\"><a class=\"a-link-normal s-underline-text s-underline-link-text s-link-style\" href=\"/gp/goldbox/\"><span class=\"a-badge\" data-a-badge-type=\"deal\" id=\"BEST_DEAL_B07CJCGM1M\"><span class=\"a-badge-label\" data-a-badge-color=\"sx-lightning-deal-red\" id=\"BEST_DEAL_B07CJCGM1M-label\"><span class=\"a-badge-label-inner a-text-ellipsis\"><span class=\"a-badge-text\" data-a-badge-color=\"sx-cloud\">Limited time deal</span></span></span></span> </a> </div><div class=\"a-row a-size-base a-color-base\"><a class=\"a-size-base a-link-normal s-underline-text s-underline-link-text s-link-style a-text-normal\" href=\"/American-Tourister-AMT-SCH-02/dp/B07CJCGM1M/ref=sr_1_1?crid=2M096C61O4MLT&amp;keywords=bags&amp;qid=1675272154&amp;sprefix=ba%2Caps%2C283&amp;sr=8-1\" target=\"_blank\"><span class=\"a-price\" data-a-color=\"base\" data-a-size=\"xl\"><span class=\"a-offscreen\">₹1,299</span><span aria-hidden=\"true\"><span class=\"a-price-symbol\">₹</span><span class=\"a-price-whole\">1,299</span></span></span> <span class=\"a-price a-text-price\" data-a-color=\"secondary\" data-a-size=\"b\" data-a-strike=\"true\"><span class=\"a-offscreen\">₹2,300</span><span aria-hidden=\"true\">₹2,300</span></span> </a> <span class=\"a-letter-space\"></span><span>(44% off)</span><span class=\"a-letter-space\"></span></div></div><div class=\"a-section a-spacing-none a-spacing-top-micro\"><div class=\"a-row a-size-base a-color-secondary s-align-children-center\"><div class=\"a-row s-align-children-center\"><span class=\"aok-inline-block s-image-logo-view\"><span class=\"aok-relative s-icon-text-medium s-prime\"><i aria-label=\"Amazon Prime\" class=\"a-icon a-icon-prime a-icon-medium\" role=\"img\"></i></span><span></span></span> <span aria-label=\"Get it by Tomorrow, February 2\"><span class=\"a-color-base\">Get it by </span><span class=\"a-color-base a-text-bold\">Tomorrow, February 2</span></span></div><div class=\"a-row\"><span aria-label=\"FREE Delivery by Amazon\"><span class=\"a-color-base\">FREE Delivery by Amazon</span></span></div></div></div></div></div><div class=\"sg-col sg-col-4-of-12 sg-col-4-of-16 sg-col-8-of-20\"><div class=\"sg-col-inner\"></div></div></div></div></div></div></div></div></div></div></div></div>"
            ]
          },
          "metadata": {},
          "execution_count": 72
        }
      ]
    },
    {
      "cell_type": "code",
      "source": [
        "l = item.find('span','a-icon-alt')"
      ],
      "metadata": {
        "id": "6SiEV8WGNB0K"
      },
      "execution_count": 76,
      "outputs": []
    },
    {
      "cell_type": "code",
      "source": [
        "review = l.text.strip()\n"
      ],
      "metadata": {
        "id": "cSJz5hqWPRK2"
      },
      "execution_count": 79,
      "outputs": []
    },
    {
      "cell_type": "code",
      "source": [
        "num_review = item.find('span',\"a-size-base s-underline-text\")"
      ],
      "metadata": {
        "id": "KWsX9Q7bPVV9"
      },
      "execution_count": 82,
      "outputs": []
    },
    {
      "cell_type": "code",
      "source": [
        "num_review"
      ],
      "metadata": {
        "colab": {
          "base_uri": "https://localhost:8080/"
        },
        "id": "9ImaN-GWP1Bi",
        "outputId": "bbd022d4-7aef-4fcd-9aad-0960c35d4367"
      },
      "execution_count": 83,
      "outputs": [
        {
          "output_type": "execute_result",
          "data": {
            "text/plain": [
              "<span class=\"a-size-base s-underline-text\">51,350</span>"
            ]
          },
          "metadata": {},
          "execution_count": 83
        }
      ]
    },
    {
      "cell_type": "code",
      "source": [
        "num_review = num_review.text.strip()\n"
      ],
      "metadata": {
        "id": "Xk0agh1cP4nB"
      },
      "execution_count": 84,
      "outputs": []
    },
    {
      "cell_type": "code",
      "source": [
        "num_review"
      ],
      "metadata": {
        "colab": {
          "base_uri": "https://localhost:8080/",
          "height": 35
        },
        "id": "GGlQcT7gP_E2",
        "outputId": "eedf6820-4cfa-4337-dd68-00665c313516"
      },
      "execution_count": 285,
      "outputs": [
        {
          "output_type": "execute_result",
          "data": {
            "text/plain": [
              "'51,350'"
            ],
            "application/vnd.google.colaboratory.intrinsic+json": {
              "type": "string"
            }
          },
          "metadata": {},
          "execution_count": 285
        }
      ]
    },
    {
      "cell_type": "code",
      "source": [
        "print(description,to_url,review,num_review)"
      ],
      "metadata": {
        "colab": {
          "base_uri": "https://localhost:8080/"
        },
        "id": "NjFlGYyZP_vx",
        "outputId": "b3d7db73-c06a-4454-c228-bcd6bd0e792d"
      },
      "execution_count": 86,
      "outputs": [
        {
          "output_type": "stream",
          "name": "stdout",
          "text": [
            "American Tourister 32 Ltrs Black Casual Backpack (AMT FIZZ SCH BAG 02 - BLACK) https://amazon.in/American-Tourister-AMT-SCH-02/dp/B07CJCGM1M/ref=sr_1_1?crid=2M096C61O4MLT&keywords=bags&qid=1675272154&sprefix=ba%2Caps%2C283&sr=8-1 4.1 out of 5 stars 51,350\n"
          ]
        }
      ]
    },
    {
      "cell_type": "code",
      "source": [
        "ASIN = required[0]['data-asin']"
      ],
      "metadata": {
        "colab": {
          "base_uri": "https://localhost:8080/",
          "height": 35
        },
        "id": "NYS4HVG_Cvn0",
        "outputId": "836865e3-0ac7-4223-c063-c28d1b3bca71"
      },
      "execution_count": 38,
      "outputs": [
        {
          "output_type": "execute_result",
          "data": {
            "text/plain": [
              "'B07CJCGM1M'"
            ],
            "application/vnd.google.colaboratory.intrinsic+json": {
              "type": "string"
            }
          },
          "metadata": {},
          "execution_count": 38
        }
      ]
    },
    {
      "cell_type": "code",
      "source": [
        "check_ASIN = [chr(i).upper() for i in range(97,97+26)]"
      ],
      "metadata": {
        "colab": {
          "base_uri": "https://localhost:8080/"
        },
        "id": "imzff1vWQK6i",
        "outputId": "142af041-73c4-42d4-8fb2-d06ff60f33a8"
      },
      "execution_count": 91,
      "outputs": [
        {
          "output_type": "stream",
          "name": "stdout",
          "text": [
            "['A', 'B', 'C', 'D', 'E', 'F', 'G', 'H', 'I', 'J', 'K', 'L', 'M', 'N', 'O', 'P', 'Q', 'R', 'S', 'T', 'U', 'V', 'W', 'X', 'Y', 'Z']\n"
          ]
        }
      ]
    },
    {
      "cell_type": "code",
      "source": [
        "def find_details(item):\n",
        "  atag = item.h2.a\n",
        "  description = atag.text.strip()\n",
        "  to_url = 'https://amazon.in' + atag.get('href')\n",
        "  try:\n",
        "    price_parent = item.find('span','a-price')\n",
        "    price = price_parent.find('span','a-offscreen')\n",
        "    price = price.text.strip()\n",
        "  except:\n",
        "    price = \"\"\n",
        "  try:\n",
        "    l = item.find('span','a-icon-alt')\n",
        "    review = l.text.strip()\n",
        "    num_review = item.find('span',\"a-size-base s-underline-text\")\n",
        "    num_review = num_review.text.strip()\n",
        "    if num_review[0] == '-':\n",
        "      num_review = num_review[1:]\n",
        "  except:\n",
        "    review = \"\"\n",
        "    num_review = \"\"\n",
        "  return {\"product name\":description,\"product url\":to_url,\"product price\":price,\"review\":review,\"number of reviews\":num_review}\n",
        "\n",
        "  \n"
      ],
      "metadata": {
        "id": "RR4AK57pQ4DI"
      },
      "execution_count": 101,
      "outputs": []
    },
    {
      "cell_type": "code",
      "source": [
        "records = []\n",
        "for item in required:\n",
        "  records.append(find_details(item))\n"
      ],
      "metadata": {
        "id": "fviTFnePUc16"
      },
      "execution_count": 102,
      "outputs": []
    },
    {
      "cell_type": "code",
      "source": [
        "records"
      ],
      "metadata": {
        "colab": {
          "base_uri": "https://localhost:8080/"
        },
        "id": "_f6X5TSoUnEo",
        "outputId": "65b41da8-9204-487a-f866-aa6b7fddbaee"
      },
      "execution_count": 103,
      "outputs": [
        {
          "output_type": "execute_result",
          "data": {
            "text/plain": [
              "[{'product name': 'American Tourister 32 Ltrs Black Casual Backpack (AMT FIZZ SCH BAG 02 - BLACK)',\n",
              "  'product url': 'https://amazon.in/American-Tourister-AMT-SCH-02/dp/B07CJCGM1M/ref=sr_1_1?crid=2M096C61O4MLT&keywords=bags&qid=1675272154&sprefix=ba%2Caps%2C283&sr=8-1',\n",
              "  'product price': '₹1,299',\n",
              "  'review': '4.1 out of 5 stars',\n",
              "  'number of reviews': '51,350'},\n",
              " {'product name': 'Wesley Milestone 2.0 Casual Waterproof Laptop Backpack/Office Bag/School Bag/College Bag/Business Bag/Travel Backpack (Dimensions:13x18 inches) (Compatible with 39.62cm(15.6inch laptop) 30 L (Blue & black)',\n",
              "  'product url': 'https://amazon.in/Wesley-Milestone-Waterproof-Backpack-Business/dp/B084JGJ8PF/ref=sr_1_2?crid=2M096C61O4MLT&keywords=bags&qid=1675272154&sprefix=ba%2Caps%2C283&sr=8-2',\n",
              "  'product price': '₹565',\n",
              "  'review': '4.3 out of 5 stars',\n",
              "  'number of reviews': '9,219'},\n",
              " {'product name': 'Skybags Brat Black 46 Cms Casual Backpack',\n",
              "  'product url': 'https://amazon.in/Skybags-Brat-Black-Casual-Backpack/dp/B08Z1HHHTD/ref=sr_1_3?crid=2M096C61O4MLT&keywords=bags&qid=1675272154&sprefix=ba%2Caps%2C283&sr=8-3',\n",
              "  'product price': '₹669',\n",
              "  'review': '4.1 out of 5 stars',\n",
              "  'number of reviews': '3,364'},\n",
              " {'product name': 'ADISA 15.6 inch Laptop Backpack Office Bag College Travel Back Pack 32 Ltrs (z-Navy Blue)',\n",
              "  'product url': 'https://amazon.in/ADISA-Laptop-Backpack-Office-College/dp/B09TPX22NF/ref=sr_1_4?crid=2M096C61O4MLT&keywords=bags&qid=1675272154&sprefix=ba%2Caps%2C283&sr=8-4',\n",
              "  'product price': '₹499',\n",
              "  'review': '3.9 out of 5 stars',\n",
              "  'number of reviews': '461'},\n",
              " {'product name': 'AirCase Laptop Bag Backpack Case Pouch for Laptop Backpack for Men & Women,Premium Vegan Leather',\n",
              "  'product url': 'https://amazon.in/AirCase-C34-Laptop-Backpack-Women/dp/B07QN4KXWG/ref=sr_1_5?crid=2M096C61O4MLT&keywords=bags&qid=1675272154&sprefix=ba%2Caps%2C283&sr=8-5',\n",
              "  'product price': '₹999',\n",
              "  'review': '',\n",
              "  'number of reviews': ''},\n",
              " {'product name': 'Mi Step Out 12 L Mini Backpack (Small Size, Black, Water Repellant)',\n",
              "  'product url': 'https://amazon.in/Backpack-Small-Black-Water-Repellant/dp/B088XB5XY8/ref=sr_1_6?crid=2M096C61O4MLT&keywords=bags&qid=1675272154&sprefix=ba%2Caps%2C283&sr=8-6',\n",
              "  'product price': '₹356',\n",
              "  'review': '4.1 out of 5 stars',\n",
              "  'number of reviews': '7,623'},\n",
              " {'product name': 'Safari Flash Casual Backpack, 26 ltr Water Resistant Travel Bags| Weight Polyester Bagpack for Men and Women, Spacious Shoulder Bag for College, Office, Travelling and Camping',\n",
              "  'product url': 'https://amazon.in/Safari-Backpack-Resistant-Polyester-Travelling/dp/B09B29F66W/ref=sr_1_7?crid=2M096C61O4MLT&keywords=bags&qid=1675272154&sprefix=ba%2Caps%2C283&sr=8-7',\n",
              "  'product price': '₹699',\n",
              "  'review': '3.9 out of 5 stars',\n",
              "  'number of reviews': '2,180'},\n",
              " {'product name': 'Wesley Spartan Unisex Travel Hiking Laptop Bag fits Upto 17.3 inch with Raincover and Internal Organiser Backpack Rucksack College Bag',\n",
              "  'product url': 'https://amazon.in/Wesley-Spartan-Hiking-Raincover-Organiser/dp/B098QFF5TJ/ref=sr_1_8?crid=2M096C61O4MLT&keywords=bags&qid=1675272154&sprefix=ba%2Caps%2C283&sr=8-8',\n",
              "  'product price': '₹798',\n",
              "  'review': '4.1 out of 5 stars',\n",
              "  'number of reviews': '911'},\n",
              " {'product name': 'Fur Jaden Brown Textured Leatherette Stylish & Spacious Weekender Duffle Bag for Travel',\n",
              "  'product url': 'https://amazon.in/FUR-JADEN-Leatherette-Polypropylene-DUFF05/dp/B07M9BRCQ5/ref=sr_1_9?crid=2M096C61O4MLT&keywords=bags&qid=1675272154&sprefix=ba%2Caps%2C283&sr=8-9',\n",
              "  'product price': '₹889',\n",
              "  'review': '4.3 out of 5 stars',\n",
              "  'number of reviews': '5,313'},\n",
              " {'product name': 'Gear CarryOn 16L Foldable Water Resistant School Bag//Backpack/College Bag for Men/Women - Blue Black',\n",
              "  'product url': 'https://amazon.in/GEAR-Black-Blue-Backpack-years/dp/B019HA8AYG/ref=sr_1_10?crid=2M096C61O4MLT&keywords=bags&qid=1675272154&sprefix=ba%2Caps%2C283&sr=8-10',\n",
              "  'product price': '₹249',\n",
              "  'review': '3.7 out of 5 stars',\n",
              "  'number of reviews': '5,921'},\n",
              " {'product name': 'Half Moon Large 37L Laptop Bag Backpack for menं Women Boys and Girls Luggage Travel Bags with 17.3 inches Laptop Compartment & Rain Cover',\n",
              "  'product url': 'https://amazon.in/Half-Moon-Backpack-Luggage-Compartment/dp/B09VCLZ3K4/ref=sr_1_11?crid=2M096C61O4MLT&keywords=bags&qid=1675272154&sprefix=ba%2Caps%2C283&sr=8-11',\n",
              "  'product price': '₹849',\n",
              "  'review': '3.9 out of 5 stars',\n",
              "  'number of reviews': '2,124'},\n",
              " {'product name': 'ADISA Light Weight Laptop Backpack 32 Ltrs',\n",
              "  'product url': 'https://amazon.in/ADISA-BP005-Weight-Casual-Backpack/dp/B07F3X45WZ/ref=sr_1_12?crid=2M096C61O4MLT&keywords=bags&qid=1675272154&sprefix=ba%2Caps%2C283&sr=8-12',\n",
              "  'product price': '₹499',\n",
              "  'review': '4.0 out of 5 stars',\n",
              "  'number of reviews': '5,545'},\n",
              " {'product name': 'ADISA Laptop Backpack 31 Ltrs',\n",
              "  'product url': 'https://amazon.in/ADISA-BP004-Weight-Casual-Backpack/dp/B07G3CG9FC/ref=sr_1_13?crid=2M096C61O4MLT&keywords=bags&qid=1675272154&sprefix=ba%2Caps%2C283&sr=8-13',\n",
              "  'product price': '₹499',\n",
              "  'review': '4.0 out of 5 stars',\n",
              "  'number of reviews': '8,989'},\n",
              " {'product name': 'Wesley Unisex Milestone Casual Waterproof Laptop Office School College Business Travel Backpack 25 L (Dimensions: 12.5x18 inches) (Compatible with 15.6 inch laptops), Navy Blue',\n",
              "  'product url': 'https://amazon.in/Wesley-Milestone-Waterproof-Backpack-Business/dp/B07K8KLB3P/ref=sr_1_14?crid=2M096C61O4MLT&keywords=bags&qid=1675272154&sprefix=ba%2Caps%2C283&sr=8-14',\n",
              "  'product price': '₹498',\n",
              "  'review': '4.3 out of 5 stars',\n",
              "  'number of reviews': '12,103'},\n",
              " {'product name': 'FUR JADEN Anti Theft Number Lock Backpack Bag with 15.6 Inch Laptop Compartment, USB Charging Port & Organizer Pocket for Men Women Boys Girls',\n",
              "  'product url': 'https://amazon.in/Number-Backpack-Compartment-Charging-Organizer/dp/B09VTDMRY7/ref=sr_1_15?crid=2M096C61O4MLT&keywords=bags&qid=1675272154&sprefix=ba%2Caps%2C283&sr=8-15',\n",
              "  'product price': '₹689',\n",
              "  'review': '3.9 out of 5 stars',\n",
              "  'number of reviews': '2,682'},\n",
              " {'product name': 'Bennett™ Mystic Formal Business Briefcase Bag Crossbody Messenger College Bags For Men Women MacBook INoteBook ITablet Laptop Upto 15.6 Inch | Handbags with Shoulder Straps (Blue) 6 Months Warranty',\n",
              "  'product url': 'https://amazon.in/Bennett-Mystic-Shoulder-Messenger-Repellent/dp/B08X2T2M8G/ref=sr_1_16?crid=2M096C61O4MLT&keywords=bags&qid=1675272154&sprefix=ba%2Caps%2C283&sr=8-16',\n",
              "  'product price': '₹512',\n",
              "  'review': '4.1 out of 5 stars',\n",
              "  'number of reviews': '4,857'}]"
            ]
          },
          "metadata": {},
          "execution_count": 103
        }
      ]
    },
    {
      "cell_type": "code",
      "source": [
        "def hit_url(record):\n",
        "  ASIN_split = record['product url'].split('/dp')\n",
        "  ASINs = ASIN_split[1].split('/')\n",
        "  ASIN = ASINs[1]\n",
        "  record['ASIN'] = ASIN\n",
        "  webpage = requests.get(record['product url'],headers=HEADERS)\n",
        "  soup = BeautifulSoup(webpage.content,'html.parser')\n",
        "  product_description = []\n",
        "  try:\n",
        "    x = soup.find('div',{'id':'feature-bullets'})\n",
        "    y = x.find_all('li')\n",
        "    for item in y:\n",
        "      product_description.append(item.text.strip())\n",
        "    str_product_description = \";\".join(product_description)\n",
        "    record['product description'] = str_product_description\n",
        "  except:\n",
        "    record['product description'] = \"\"\n",
        "  rec = []\n",
        "  manufacturer = \"\"\n",
        "  try:\n",
        "    detail_box = soup.find('div',{'id':'detailBullets_feature_div'})\n",
        "    detail_box_1 = detail_box.find('ul',{'class':\"a-unordered-list a-nostyle a-vertical a-spacing-none detail-bullet-list\"})\n",
        "    detail_box_2 = detail_box_1.find_all('span',{'class':'a-list-item'})\n",
        "    for i in detail_box_2:\n",
        "      rec.append(i.text.strip())\n",
        "    for i in rec:\n",
        "      k = i.split(\"\\n\")\n",
        "      new_k = [[k[0].strip()],[k[-1].strip()]]\n",
        "      if new_k[0][0].lower() == 'manufacturer':\n",
        "        manufacturer = new_k[1][0]\n",
        "        break\n",
        "  except:\n",
        "    manufacturer = \"\"\n",
        "  record['manufacturer'] = manufacturer\n",
        "  record['description'] = record['product name']\n",
        "\n",
        "\n",
        "\n",
        "\n",
        "  \n",
        "  \n",
        "\n",
        "\n"
      ],
      "metadata": {
        "id": "Z-L6rtFfUoSF"
      },
      "execution_count": 229,
      "outputs": []
    },
    {
      "cell_type": "code",
      "source": [
        "for record in records:\n",
        "  hit_url(record)"
      ],
      "metadata": {
        "id": "SMI8DsS3kMVc"
      },
      "execution_count": 230,
      "outputs": []
    },
    {
      "cell_type": "code",
      "source": [
        "records"
      ],
      "metadata": {
        "colab": {
          "base_uri": "https://localhost:8080/"
        },
        "id": "VwgE-spJtYFK",
        "outputId": "967bec29-95aa-43aa-c621-06d3a7e9d981"
      },
      "execution_count": 231,
      "outputs": [
        {
          "output_type": "execute_result",
          "data": {
            "text/plain": [
              "[{'product name': 'American Tourister 32 Ltrs Black Casual Backpack (AMT FIZZ SCH BAG 02 - BLACK)',\n",
              "  'product url': 'https://amazon.in/American-Tourister-AMT-SCH-02/dp/B07CJCGM1M/ref=sr_1_1?crid=2M096C61O4MLT&keywords=bags&qid=1675272154&sprefix=ba%2Caps%2C283&sr=8-1',\n",
              "  'product price': '₹1,299',\n",
              "  'review': '4.1 out of 5 stars',\n",
              "  'number of reviews': '51,350',\n",
              "  'ASIN': 'B07CJCGM1M',\n",
              "  'product description': 'Laptop Compatibility: No, Strap Type: Adjustable, Trolley Support: No. With Rain Cover : No;Outer Material: Polyester, Color: Black;Water Resistance: Water resistant , not Waterproof;Capacity: 32 liters; Dimensions: 31.5 x 22 x 49.5 Centimeters;Number of Wheels: 0, Number of compartments: 3;Warranty type: Manufacturer; 1 year International warranty valid for 1 year from the original date of;Mesh pockets on both sides to accommodate your sipper or bottle and umbrella;Mesh Padding on back & shoulder strap to provide comfort & better back support',\n",
              "  'manufacturer': '',\n",
              "  'description': 'American Tourister 32 Ltrs Black Casual Backpack (AMT FIZZ SCH BAG 02 - BLACK)'},\n",
              " {'product name': 'Wesley Milestone 2.0 Casual Waterproof Laptop Backpack/Office Bag/School Bag/College Bag/Business Bag/Travel Backpack (Dimensions:13x18 inches) (Compatible with 39.62cm(15.6inch laptop) 30 L (Blue & black)',\n",
              "  'product url': 'https://amazon.in/Wesley-Milestone-Waterproof-Backpack-Business/dp/B084JGJ8PF/ref=sr_1_2?crid=2M096C61O4MLT&keywords=bags&qid=1675272154&sprefix=ba%2Caps%2C283&sr=8-2',\n",
              "  'product price': '₹565',\n",
              "  'review': '4.3 out of 5 stars',\n",
              "  'number of reviews': '9,219',\n",
              "  'ASIN': 'B084JGJ8PF',\n",
              "  'product description': '30L Capacity: The Backpack has a padded laptop compartment that can fit 15.6 inch laptop. It can also accommodate essentials such as a Lunch box, Charger, Tablet, Books, Power Bank, Wallet, and Sunglass.;Multi-Level Organizer: The backpack has a front zipper pocket for the ID card, Sanitizer, House keys, Pen. First compartment with pockets for the earphones, pens, notebook, Fitness Band. Spacious second compartment for all your electronics.;Ergonomic Design: Thick cushioning around the shoulders and on the back panel makes the backpack super light and comfortable on the move. “S” Shaped shoulder strap distribute the weight of the backpack across your upper body.;Made In India: Wesley Business Casual Backpack is fully manufactured in India and pass through stringent quality tests and checks;1 Year Warranty: The Wesley Business casual backpack comes with 1 year of warranty;Water Resistant Material: Advanced IPX4 coating on the material ensures resistance to water entering from any direction.',\n",
              "  'manufacturer': '',\n",
              "  'description': 'Wesley Milestone 2.0 Casual Waterproof Laptop Backpack/Office Bag/School Bag/College Bag/Business Bag/Travel Backpack (Dimensions:13x18 inches) (Compatible with 39.62cm(15.6inch laptop) 30 L (Blue & black)'},\n",
              " {'product name': 'Skybags Brat Black 46 Cms Casual Backpack',\n",
              "  'product url': 'https://amazon.in/Skybags-Brat-Black-Casual-Backpack/dp/B08Z1HHHTD/ref=sr_1_3?crid=2M096C61O4MLT&keywords=bags&qid=1675272154&sprefix=ba%2Caps%2C283&sr=8-3',\n",
              "  'product price': '₹669',\n",
              "  'review': '4.1 out of 5 stars',\n",
              "  'number of reviews': '3,364',\n",
              "  'ASIN': 'B08Z1HHHTD',\n",
              "  'product description': 'Combination of functional & safety features in stylish design, Soft mesh back with 8 mm foam padded 2 Main Compartment, 1 Slip In Pocket inside the bag, Printed Design, Mesh bottle holder on the side,',\n",
              "  'manufacturer': 'VIP Industries Ltd',\n",
              "  'description': 'Skybags Brat Black 46 Cms Casual Backpack'},\n",
              " {'product name': 'ADISA 15.6 inch Laptop Backpack Office Bag College Travel Back Pack 32 Ltrs (z-Navy Blue)',\n",
              "  'product url': 'https://amazon.in/ADISA-Laptop-Backpack-Office-College/dp/B09TPX22NF/ref=sr_1_4?crid=2M096C61O4MLT&keywords=bags&qid=1675272154&sprefix=ba%2Caps%2C283&sr=8-4',\n",
              "  'product price': '₹499',\n",
              "  'review': '3.9 out of 5 stars',\n",
              "  'number of reviews': '461',\n",
              "  'ASIN': 'B09TPX22NF',\n",
              "  'product description': 'Material: Water Resistant Light-Weight Polyester;Compartments: 2 with padding; Laptop Size: 15.6 inch and below;Dimensions: LxWxH - 12.5 x 7.5 x 19 inches;Reflector Logo / Adjustable Padded Shoulder Straps / 2 Bottle holders;Closure Type: Zipper',\n",
              "  'manufacturer': 'ADISA',\n",
              "  'description': 'ADISA 15.6 inch Laptop Backpack Office Bag College Travel Back Pack 32 Ltrs (z-Navy Blue)'},\n",
              " {'product name': 'AirCase Laptop Bag Backpack Case Pouch for Laptop Backpack for Men & Women,Premium Vegan Leather',\n",
              "  'product url': 'https://amazon.in/AirCase-C34-Laptop-Backpack-Women/dp/B07QN4KXWG/ref=sr_1_5?crid=2M096C61O4MLT&keywords=bags&qid=1675272154&sprefix=ba%2Caps%2C283&sr=8-5',\n",
              "  'product price': '₹999',\n",
              "  'review': '',\n",
              "  'number of reviews': '',\n",
              "  'ASIN': 'B07QN4KXWG',\n",
              "  'product description': 'Innovative Design: AirCase Laptop Backpack is made of Premium Vegan Leather for your 15.6 Inch Laptop. This Laptop Backpack has 2 Front Pocket and 2 Main Compartment for Laptop, Tablet and other Main compartment for wallets dairy, clothes, etc. There is two way Cortical Tail Zipper with leather pull tail, Fashionable and Novel, keeping up with the current trend.;Large Storage: There is 2 Main Compartment One for 15.6 inch Laptop, Tablet with a secure Velcro closure and other for main compartment for your other belonging like Cloth, Wallet, Book, Diary, etc. There is also 2 front zipper pocket for Mobile, Charger, Power Adapter, Cable, Power Bank, Keys etc.convenient to carry at school college office travelling for students boys girls;Light weight & Durable: It is made of Premium Vegan Leather for 15.6 inch laptop. Ruggedized water-resistant base helps to protect from the elements. Water Resistant Base which protect your belonging from getting wet. waterproof latest smart stylish spacious rucksack luggage tourist travel bagpack.;Shoulder Straps: Breathable Mesh Padding at back which is design for back relief and shoulder straps for extra comfort with adjustable side straps for a better fit.;Specifications:- Work with -15.6\" Laptops and Under, CAPACITY- 22L, DIMENSIONS – 46-cm X 29-cm X 19-cm, WEIGHT - 0.58 kg, WARRANTY – 1 Year under Manufacturing Defect Only.',\n",
              "  'manufacturer': 'AirCase',\n",
              "  'description': 'AirCase Laptop Bag Backpack Case Pouch for Laptop Backpack for Men & Women,Premium Vegan Leather'},\n",
              " {'product name': 'Mi Step Out 12 L Mini Backpack (Small Size, Black, Water Repellant)',\n",
              "  'product url': 'https://amazon.in/Backpack-Small-Black-Water-Repellant/dp/B088XB5XY8/ref=sr_1_6?crid=2M096C61O4MLT&keywords=bags&qid=1675272154&sprefix=ba%2Caps%2C283&sr=8-6',\n",
              "  'product price': '₹356',\n",
              "  'review': '4.1 out of 5 stars',\n",
              "  'number of reviews': '7,623',\n",
              "  'ASIN': 'B088XB5XY8',\n",
              "  'product description': 'Made of multi-coated 600D polyester Material ; Water Repellent;Dimension: 26cm x 38cm x 14cm (LxWxH); Weight : 200 grams; Capacity: 12liters;Small Size backpack; Laptop Compatibility: No;This backpack comes with 2 zipper pockets that can house a notebook, gym gear, travel essentials and more;With contra zippers and adjustable straps this light weight backpack is the ideal companion while at the airport or hitting the gym or exploring new city or using it as a carrier for books;6 months limited warranty',\n",
              "  'manufacturer': '',\n",
              "  'description': 'Mi Step Out 12 L Mini Backpack (Small Size, Black, Water Repellant)'},\n",
              " {'product name': 'Safari Flash Casual Backpack, 26 ltr Water Resistant Travel Bags| Weight Polyester Bagpack for Men and Women, Spacious Shoulder Bag for College, Office, Travelling and Camping',\n",
              "  'product url': 'https://amazon.in/Safari-Backpack-Resistant-Polyester-Travelling/dp/B09B29F66W/ref=sr_1_7?crid=2M096C61O4MLT&keywords=bags&qid=1675272154&sprefix=ba%2Caps%2C283&sr=8-7',\n",
              "  'product price': '₹699',\n",
              "  'review': '3.9 out of 5 stars',\n",
              "  'number of reviews': '2,180',\n",
              "  'ASIN': 'B09B29F66W',\n",
              "  'product description': 'HIGH QUALITY FABRIC: Our lightweight yet durable bags are made of 100% polyester and water resistant fabric. This casual backpack can be by boys and girls for school, college, coaching, tution, or everyday outings.;FRONT POCKET: Our trendy unisex bag pack has a front storage pocket that keeps small items neatly organized and easy to access;MESH POCKET: Our fancy and stylish backpacks have mesh pockets on both sides to accommodate your water bottle and umbrella;COMFORT: Our 26 liter bag has mesh padding on back to help carry heavy items. It also provides superior comfort with padded adjustable shoulder straps;WARRANTY: All of our bags come with 1-year International Warranty against manufacturing defects',\n",
              "  'manufacturer': 'Safari Industries',\n",
              "  'description': 'Safari Flash Casual Backpack, 26 ltr Water Resistant Travel Bags| Weight Polyester Bagpack for Men and Women, Spacious Shoulder Bag for College, Office, Travelling and Camping'},\n",
              " {'product name': 'Wesley Spartan Unisex Travel Hiking Laptop Bag fits Upto 17.3 inch with Raincover and Internal Organiser Backpack Rucksack College Bag',\n",
              "  'product url': 'https://amazon.in/Wesley-Spartan-Hiking-Raincover-Organiser/dp/B098QFF5TJ/ref=sr_1_8?crid=2M096C61O4MLT&keywords=bags&qid=1675272154&sprefix=ba%2Caps%2C283&sr=8-8',\n",
              "  'product price': '₹798',\n",
              "  'review': '4.1 out of 5 stars',\n",
              "  'number of reviews': '911',\n",
              "  'ASIN': 'B098QFF5TJ',\n",
              "  'product description': 'Laptop bag fits upto 17.3 inch laptop',\n",
              "  'manufacturer': 'Wesley',\n",
              "  'description': 'Wesley Spartan Unisex Travel Hiking Laptop Bag fits Upto 17.3 inch with Raincover and Internal Organiser Backpack Rucksack College Bag'},\n",
              " {'product name': 'Fur Jaden Brown Textured Leatherette Stylish & Spacious Weekender Duffle Bag for Travel',\n",
              "  'product url': 'https://amazon.in/FUR-JADEN-Leatherette-Polypropylene-DUFF05/dp/B07M9BRCQ5/ref=sr_1_9?crid=2M096C61O4MLT&keywords=bags&qid=1675272154&sprefix=ba%2Caps%2C283&sr=8-9',\n",
              "  'product price': '₹889',\n",
              "  'review': '4.3 out of 5 stars',\n",
              "  'number of reviews': '5,313',\n",
              "  'ASIN': 'B07M9BRCQ5',\n",
              "  'product description': \"MATERIAL - We use Highest Quality of Artificial Leather which is Durable, Long Lasting and tested to ensure they don't peel off in just few months. The leather is also water resistant. Inner fabric lining ensured to have a soft touch feel. We use quality zips and accessories that have a long life.;Waterproof - With this unisex duffle bag, you can be rest assured that none of your belongings will be damaged by rain or accidental splashes. The interiors of this water-resistant travel duffle bag remain free from moisture even if you get caught in an unexpected shower.;Dimensions: 47 x 28 x 27 CM. Volume Capacity - 35 Litres. Huge Spacious Compartment;Design - This stylish yet utilitarian textured leatherette duffle bag can be used for corporate travel as well as to take to the gym. The Large Spacious Compartment is suitable for 3-4 days weekender or business trip, can be used as a carry-on flight bag as well.;Warranty - 100% Genuine Fur Jaden Men Bags, 10 days No Question asked replacement guarantee from the date of delivery. 6 Month Manufacturer and Seller Warranty against Manufacturing Defects\",\n",
              "  'manufacturer': 'Fur Jaden',\n",
              "  'description': 'Fur Jaden Brown Textured Leatherette Stylish & Spacious Weekender Duffle Bag for Travel'},\n",
              " {'product name': 'Gear CarryOn 16L Foldable Water Resistant School Bag//Backpack/College Bag for Men/Women - Blue Black',\n",
              "  'product url': 'https://amazon.in/GEAR-Black-Blue-Backpack-years/dp/B019HA8AYG/ref=sr_1_10?crid=2M096C61O4MLT&keywords=bags&qid=1675272154&sprefix=ba%2Caps%2C283&sr=8-10',\n",
              "  'product price': '₹249',\n",
              "  'review': '3.7 out of 5 stars',\n",
              "  'number of reviews': '5,921',\n",
              "  'ASIN': 'B019HA8AYG',\n",
              "  'product description': 'Outer Material: Polyester, Color: Black and Yellow.Ideal for 3-5 year old children.;Wear Resistant: Wear resistant, Stain resistant, Water Resistance: Water resistant; Dimensions: 49 cms x 33 cms x 10 cms (LxWxH);Number of compartments: 1; Compatible Laptop Size : 15.4;Warranty Type: Manufacturer; 1 Year from the date of purchase;Pocket Description: Utility Pocket; Color Name: Black And Blue; Age Range Description: Adult; Closure Type: Zipper',\n",
              "  'manufacturer': 'Gear Merchandise PVT LTD',\n",
              "  'description': 'Gear CarryOn 16L Foldable Water Resistant School Bag//Backpack/College Bag for Men/Women - Blue Black'},\n",
              " {'product name': 'Half Moon Large 37L Laptop Bag Backpack for menं Women Boys and Girls Luggage Travel Bags with 17.3 inches Laptop Compartment & Rain Cover',\n",
              "  'product url': 'https://amazon.in/Half-Moon-Backpack-Luggage-Compartment/dp/B09VCLZ3K4/ref=sr_1_11?crid=2M096C61O4MLT&keywords=bags&qid=1675272154&sprefix=ba%2Caps%2C283&sr=8-11',\n",
              "  'product price': '₹849',\n",
              "  'review': '3.9 out of 5 stars',\n",
              "  'number of reviews': '2,124',\n",
              "  'ASIN': 'B09VCLZ3K4',\n",
              "  'product description': 'SPACIOUS AND LIGHTWEIGHT: Light weight and spacious laptop backpack with 3 compartments. One compartment is for carrying laptop inside (Upto 17 inches), with padding for safety, and space for laptop accessories like charger, etc. Second large compartment for books, files and all your day to day essentials. And third compartment is for your extra stuff. It has provision for holding bottles on both sides and has padded shoulder straps for your comfort;COMFORT WITH QUALITY: This Backpack has Wide, Padded and Adjustable shoulder straps and Padded Back for comfort in carrying heavy items. Stitched properly and Bartacks on every pressure point for extra durability. Made with strong yet light weight polyester fabric with heavy zippers. It also comes with a Rain cover so that you can travel during rainy season without any problem. This backpack be used by everyone be it men? , women? , boys , girls.;SMART & TRENDY LOOKS: This Large rucksack bag is smart, trendy and stylish in looks. The multipurpose rucksack bacpack looks smart, athletic and venturesome and the blend of grey and red makes it appear exquisite. Your hiking trips, mountaineering experience cannot get completed without this amazing trekking backpack.;ENDURING & LONG LASTING: This trekking backpack bag is made up of highly durable material, which makes it suitable for all weather conditions including heavy rains and extreme scorching heat. It will not only keep the inside stuff safe but will also resist damage to itself.;Style Name: Casual; Pocket Description: Utility Pocket; Compartment Description: Up To 17 Inches; Age Range Description: Adult;Pattern Name: Solid;OTHER FEATURES: Rain Cover, 17 inch Laptop compartment, Internal Organiser(Small Pockets), Strong and durable zippers, Adjustable Shoulder Handles (Straps) , 2 Bottle/Umbrella holders , Padded Handle , Padded Laptop Compartment , Ergonomic Design, Reflector Logo, etc',\n",
              "  'manufacturer': 'Amazing Bags',\n",
              "  'description': 'Half Moon Large 37L Laptop Bag Backpack for menं Women Boys and Girls Luggage Travel Bags with 17.3 inches Laptop Compartment & Rain Cover'},\n",
              " {'product name': 'ADISA Light Weight Laptop Backpack 32 Ltrs',\n",
              "  'product url': 'https://amazon.in/ADISA-BP005-Weight-Casual-Backpack/dp/B07F3X45WZ/ref=sr_1_12?crid=2M096C61O4MLT&keywords=bags&qid=1675272154&sprefix=ba%2Caps%2C283&sr=8-12',\n",
              "  'product price': '₹499',\n",
              "  'review': '4.0 out of 5 stars',\n",
              "  'number of reviews': '5,545',\n",
              "  'ASIN': 'B07F3X45WZ',\n",
              "  'product description': 'Adjustable Shoulder Handles / Two Bottle holders / Padded Handle / Reflector Logo;Dimensions : LxWxH- 31 x 18 x 47 cms;Laptop : 15.6 inches and below (Bigger than 15.6 not recommended);No. of Compartments : 3 with full padding;NOT INCLUDED : NO RAIN COVER, Laptop, Headphones & Cable (Images only for display)',\n",
              "  'manufacturer': 'ADISA',\n",
              "  'description': 'ADISA Light Weight Laptop Backpack 32 Ltrs'},\n",
              " {'product name': 'ADISA Laptop Backpack 31 Ltrs',\n",
              "  'product url': 'https://amazon.in/ADISA-BP004-Weight-Casual-Backpack/dp/B07G3CG9FC/ref=sr_1_13?crid=2M096C61O4MLT&keywords=bags&qid=1675272154&sprefix=ba%2Caps%2C283&sr=8-13',\n",
              "  'product price': '₹499',\n",
              "  'review': '4.0 out of 5 stars',\n",
              "  'number of reviews': '8,989',\n",
              "  'ASIN': 'B07G3CG9FC',\n",
              "  'product description': 'Adjustable Shoulder Handles / Two Bottle holders / Padded Top Handle / Reflector Logo;NOT INCLUDED: NO RAINCOVER, Headphone & Cable (Images only for display);Laptop Size : 15.6 inches and below (Bigger than 15.6 inches not recommended);Compartments: 2 with full padding; Front Easy-Access Pocket;Dimensions : L x W x H- 12 x 7 x 18 inches',\n",
              "  'manufacturer': 'ADISA',\n",
              "  'description': 'ADISA Laptop Backpack 31 Ltrs'},\n",
              " {'product name': 'Wesley Unisex Milestone Casual Waterproof Laptop Office School College Business Travel Backpack 25 L (Dimensions: 12.5x18 inches) (Compatible with 15.6 inch laptops), Navy Blue',\n",
              "  'product url': 'https://amazon.in/Wesley-Milestone-Waterproof-Backpack-Business/dp/B07K8KLB3P/ref=sr_1_14?crid=2M096C61O4MLT&keywords=bags&qid=1675272154&sprefix=ba%2Caps%2C283&sr=8-14',\n",
              "  'product price': '₹498',\n",
              "  'review': '4.3 out of 5 stars',\n",
              "  'number of reviews': '12,103',\n",
              "  'ASIN': 'B07K8KLB3P',\n",
              "  'product description': 'Pattern Type : Pure Color || Closure Type : Zipper || Gender : Unisex;Material : Snow Yarn Polyester Fabric || Handle/Strap Type : Soft Handle/Adjustable Shoulder Straps;Dimensions : 12.5 * 18 Inch || Capacity : 25 Litre || Fit for 15.6 Inch Laptops/Notebooks;Two Side Water Bottle Pockets || One Main Compartment And A Front Pocket;Eco-friendly, Durable, Lightweight, Flexible And Water-Resistant Material Helps To Keep The Interior Dry',\n",
              "  'manufacturer': '',\n",
              "  'description': 'Wesley Unisex Milestone Casual Waterproof Laptop Office School College Business Travel Backpack 25 L (Dimensions: 12.5x18 inches) (Compatible with 15.6 inch laptops), Navy Blue'},\n",
              " {'product name': 'FUR JADEN Anti Theft Number Lock Backpack Bag with 15.6 Inch Laptop Compartment, USB Charging Port & Organizer Pocket for Men Women Boys Girls',\n",
              "  'product url': 'https://amazon.in/Number-Backpack-Compartment-Charging-Organizer/dp/B09VTDMRY7/ref=sr_1_15?crid=2M096C61O4MLT&keywords=bags&qid=1675272154&sprefix=ba%2Caps%2C283&sr=8-15',\n",
              "  'product price': '₹689',\n",
              "  'review': '3.9 out of 5 stars',\n",
              "  'number of reviews': '2,682',\n",
              "  'ASIN': 'B09VTDMRY7',\n",
              "  'product description': 'Care Instructions: Wipe with Damp Cloth;Number Lock: This Fur Jaden Anti Theft laptop backpack comes equipped with a Number Lock. This helps keep your laptop and other belongings safe when you need to leave your bag unattended in a public space. The number lock sequence can be changed and customised by your directly.;USB Charging Port: Now charge your devices on the go with your new Fur Jaden backpack without the hassle of carrying a bulk power bank in your pocket/ hand at all times.;Ergonomic Design: This backpack has been designed to ensure equal weight distribution on your shoulders along with padded shoulder straps and breathable air mesh on the back.;Dimension: 42 CM (L) x 30 CM (W) x 18 CM (D). Storage Capacity: 25L. Weight: 600 Grams; Warranty: 1 Year Manufacturer Warranty against Manufacturing Defects;Age Range Description: Adult; Closure Type: Zipper; Lining Description: Polyester',\n",
              "  'manufacturer': 'FUR JADEN',\n",
              "  'description': 'FUR JADEN Anti Theft Number Lock Backpack Bag with 15.6 Inch Laptop Compartment, USB Charging Port & Organizer Pocket for Men Women Boys Girls'},\n",
              " {'product name': 'Bennett™ Mystic Formal Business Briefcase Bag Crossbody Messenger College Bags For Men Women MacBook INoteBook ITablet Laptop Upto 15.6 Inch | Handbags with Shoulder Straps (Blue) 6 Months Warranty',\n",
              "  'product url': 'https://amazon.in/Bennett-Mystic-Shoulder-Messenger-Repellent/dp/B08X2T2M8G/ref=sr_1_16?crid=2M096C61O4MLT&keywords=bags&qid=1675272154&sprefix=ba%2Caps%2C283&sr=8-16',\n",
              "  'product price': '₹512',\n",
              "  'review': '4.1 out of 5 stars',\n",
              "  'number of reviews': '4,857',\n",
              "  'ASIN': 'B08X2T2M8G',\n",
              "  'product description': \"PREMIUM QUALITY MATERIAL: This laptop computer briefcase is made of high-quality water repellent fabric, and well-made of foam pad inside. The laptop briefcase equipped with a removable shoulder strap and a soft carry handle, you can easily switch the carry way you want.;LIGHTWEIGHT AND MULTIFUNCTIONAL: It provide a removable shoulder strap, can be use as shoulder bag or handbag base on your need; top handle strap, and comes with adjustable strap with. It will be a good partner for your daily use or business trip.;EXCELLENT DETAILS: The laptop bag with exquisite zippers, durable hook of strap and soft handle, which make it more comfortable to carry and use. Ensure a secure and long-lasting usage everyday as office work bag, travel laptop briefcase, business laptop case, college laptop bag.;DIMENSION: External: 16 x 12 x 3 inch; Dimension: 16.5 x 11.5 x 2.5 inch. Suitable for 14-15.6 inch: Dell, Acer, ASUS, Samsung, HP and other brand laptops.(Please allow a little size different because of manual measurement). Great gifts choice for birthday, work anniversary.;BENNETT Warranty: Exchange within (6 months) if you don't like. If any problems, please do not hesitate to contact us. We will provide the best solution for you.\",\n",
              "  'manufacturer': '',\n",
              "  'description': 'Bennett™ Mystic Formal Business Briefcase Bag Crossbody Messenger College Bags For Men Women MacBook INoteBook ITablet Laptop Upto 15.6 Inch | Handbags with Shoulder Straps (Blue) 6 Months Warranty'}]"
            ]
          },
          "metadata": {},
          "execution_count": 231
        }
      ]
    },
    {
      "cell_type": "code",
      "source": [
        "all_urls = [\"https://www.amazon.in/s?k=bags&crid=2M096C61O4MLT&qid=1675289316&sprefix=ba%2Caps%2C283&ref=sr_pg_2\",\"https://www.amazon.in/s?k=bags&page=2&crid=2M096C61O4MLT&qid=1675286736&sprefix=ba%2Caps%2C283&ref=sr_pg_2\",\"https://www.amazon.in/s?k=bags&page=3&crid=2M096C61O4MLT&qid=1675287282&sprefix=ba%2Caps%2C283&ref=sr_pg_2\",\"https://www.amazon.in/s?k=bags&page=4&crid=2M096C61O4MLT&qid=1675287284&sprefix=ba%2Caps%2C283&ref=sr_pg_3\",\"https://www.amazon.in/s?k=bags&page=5&crid=2M096C61O4MLT&qid=1675287316&sprefix=ba%2Caps%2C283&ref=sr_pg_4\",\"https://www.amazon.in/s?k=bags&page=6&crid=2M096C61O4MLT&qid=1675287333&sprefix=ba%2Caps%2C283&ref=sr_pg_5\",\"https://www.amazon.in/s?k=bags&page=7&crid=2M096C61O4MLT&qid=1675287354&sprefix=ba%2Caps%2C283&ref=sr_pg_6\",\"https://www.amazon.in/s?k=bags&page=8&crid=2M096C61O4MLT&qid=1675287371&sprefix=ba%2Caps%2C283&ref=sr_pg_7\",\"https://www.amazon.in/s?k=bags&page=9&crid=2M096C61O4MLT&qid=1675287387&sprefix=ba%2Caps%2C283&ref=sr_pg_8\",\"https://www.amazon.in/s?k=bags&page=10&crid=2M096C61O4MLT&qid=1675287398&sprefix=ba%2Caps%2C283&ref=sr_pg_9\",\"https://www.amazon.in/s?k=bags&page=11&crid=2M096C61O4MLT&qid=1675287411&sprefix=ba%2Caps%2C283&ref=sr_pg_10\",\"https://www.amazon.in/s?k=bags&page=12&crid=2M096C61O4MLT&qid=1675287424&sprefix=ba%2Caps%2C283&ref=sr_pg_11\",\"https://www.amazon.in/s?k=bags&page=13&crid=2M096C61O4MLT&qid=1675287436&sprefix=ba%2Caps%2C283&ref=sr_pg_12\",\"https://www.amazon.in/s?k=bags&page=14&crid=2M096C61O4MLT&qid=1675287451&sprefix=ba%2Caps%2C283&ref=sr_pg_13\",\"https://www.amazon.in/s?k=bags&page=15&crid=2M096C61O4MLT&qid=1675287466&sprefix=ba%2Caps%2C283&ref=sr_pg_14\",\"https://www.amazon.in/s?k=bags&page=16&crid=2M096C61O4MLT&qid=1675287478&sprefix=ba%2Caps%2C283&ref=sr_pg_15\",\"https://www.amazon.in/s?k=bags&page=17&crid=2M096C61O4MLT&qid=1675287493&sprefix=ba%2Caps%2C283&ref=sr_pg_16\",\"https://www.amazon.in/s?k=bags&page=18&crid=2M096C61O4MLT&qid=1675287506&sprefix=ba%2Caps%2C283&ref=sr_pg_17\"]"
      ],
      "metadata": {
        "id": "eZrlHFc95uW5"
      },
      "execution_count": 270,
      "outputs": []
    },
    {
      "cell_type": "markdown",
      "source": [],
      "metadata": {
        "id": "cQQd6eH4A8H3"
      }
    },
    {
      "cell_type": "code",
      "source": [
        "sets = set()\n",
        "for i in records:\n",
        "  sets.add(i['product name'])\n",
        "new_records = []\n",
        "new_set = set()\n",
        "for i in records:\n",
        "  if i['product name'] not in new_set:\n",
        "    new_records.append(i)\n",
        "    new_set.add(i['product name'])"
      ],
      "metadata": {
        "colab": {
          "base_uri": "https://localhost:8080/"
        },
        "id": "fvjEhZkV2Evz",
        "outputId": "e4e3ad11-e5aa-4a44-c86e-006fc49a7397"
      },
      "execution_count": 271,
      "outputs": [
        {
          "output_type": "stream",
          "name": "stdout",
          "text": [
            "[{'product name': 'American Tourister 32 Ltrs Black Casual Backpack (AMT FIZZ SCH BAG 02 - BLACK)', 'product url': 'https://amazon.in/American-Tourister-AMT-SCH-02/dp/B07CJCGM1M/ref=sr_1_1?crid=2M096C61O4MLT&keywords=bags&qid=1675272154&sprefix=ba%2Caps%2C283&sr=8-1', 'product price': '₹1,299', 'review': '4.1 out of 5 stars', 'number of reviews': '51,350', 'ASIN': 'B07CJCGM1M', 'product description': 'Laptop Compatibility: No, Strap Type: Adjustable, Trolley Support: No. With Rain Cover : No;Outer Material: Polyester, Color: Black;Water Resistance: Water resistant , not Waterproof;Capacity: 32 liters; Dimensions: 31.5 x 22 x 49.5 Centimeters;Number of Wheels: 0, Number of compartments: 3;Warranty type: Manufacturer; 1 year International warranty valid for 1 year from the original date of;Mesh pockets on both sides to accommodate your sipper or bottle and umbrella;Mesh Padding on back & shoulder strap to provide comfort & better back support', 'manufacturer': '', 'description': 'American Tourister 32 Ltrs Black Casual Backpack (AMT FIZZ SCH BAG 02 - BLACK)'}, {'product name': 'Wesley Milestone 2.0 Casual Waterproof Laptop Backpack/Office Bag/School Bag/College Bag/Business Bag/Travel Backpack (Dimensions:13x18 inches) (Compatible with 39.62cm(15.6inch laptop) 30 L (Blue & black)', 'product url': 'https://amazon.in/Wesley-Milestone-Waterproof-Backpack-Business/dp/B084JGJ8PF/ref=sr_1_2?crid=2M096C61O4MLT&keywords=bags&qid=1675272154&sprefix=ba%2Caps%2C283&sr=8-2', 'product price': '₹565', 'review': '4.3 out of 5 stars', 'number of reviews': '9,219', 'ASIN': 'B084JGJ8PF', 'product description': '30L Capacity: The Backpack has a padded laptop compartment that can fit 15.6 inch laptop. It can also accommodate essentials such as a Lunch box, Charger, Tablet, Books, Power Bank, Wallet, and Sunglass.;Multi-Level Organizer: The backpack has a front zipper pocket for the ID card, Sanitizer, House keys, Pen. First compartment with pockets for the earphones, pens, notebook, Fitness Band. Spacious second compartment for all your electronics.;Ergonomic Design: Thick cushioning around the shoulders and on the back panel makes the backpack super light and comfortable on the move. “S” Shaped shoulder strap distribute the weight of the backpack across your upper body.;Made In India: Wesley Business Casual Backpack is fully manufactured in India and pass through stringent quality tests and checks;1 Year Warranty: The Wesley Business casual backpack comes with 1 year of warranty;Water Resistant Material: Advanced IPX4 coating on the material ensures resistance to water entering from any direction.', 'manufacturer': '', 'description': 'Wesley Milestone 2.0 Casual Waterproof Laptop Backpack/Office Bag/School Bag/College Bag/Business Bag/Travel Backpack (Dimensions:13x18 inches) (Compatible with 39.62cm(15.6inch laptop) 30 L (Blue & black)'}]\n",
            "147\n",
            "480\n",
            "147\n",
            "147\n"
          ]
        }
      ]
    },
    {
      "cell_type": "code",
      "source": [
        "safe = new_records.copy()\n",
        "safe_set = new_set.copy()"
      ],
      "metadata": {
        "id": "s93WnKN__RJb"
      },
      "execution_count": 272,
      "outputs": []
    },
    {
      "cell_type": "code",
      "source": [
        "import time"
      ],
      "metadata": {
        "id": "4dWx9HMxwtzK"
      },
      "execution_count": 234,
      "outputs": []
    },
    {
      "cell_type": "code",
      "source": [
        "now = 2\n",
        "for i in all_urls:\n",
        "  URL = i\n",
        "  required = create_required(URL)\n",
        "  temp_record = []\n",
        "  for item in required:\n",
        "    temp_record.append(find_details(item))\n",
        "  for record in temp_record:\n",
        "    time.sleep(1)\n",
        "    hit_url(record)\n",
        "  for record in temp_record:\n",
        "    if record['product name'] not in new_set:\n",
        "      new_records.append(record)\n",
        "      new_set.add(record['product name'])\n",
        "  time.sleep(3)\n",
        "  print(f'{now} th page done')\n",
        "  now+=1\n",
        "\n",
        "\n"
      ],
      "metadata": {
        "colab": {
          "base_uri": "https://localhost:8080/"
        },
        "id": "hrlGnZTqu4Os",
        "outputId": "b6322e3d-93a3-4114-9701-c420804032df"
      },
      "execution_count": 273,
      "outputs": [
        {
          "output_type": "stream",
          "name": "stdout",
          "text": [
            "2 th page done\n",
            "3 th page done\n",
            "4 th page done\n",
            "5 th page done\n",
            "6 th page done\n",
            "7 th page done\n",
            "8 th page done\n",
            "9 th page done\n",
            "10 th page done\n",
            "11 th page done\n",
            "12 th page done\n",
            "13 th page done\n",
            "14 th page done\n",
            "15 th page done\n",
            "16 th page done\n",
            "17 th page done\n",
            "18 th page done\n",
            "19 th page done\n"
          ]
        }
      ]
    },
    {
      "cell_type": "markdown",
      "source": [],
      "metadata": {
        "id": "u-DYwvbD2KOl"
      }
    },
    {
      "cell_type": "code",
      "source": [
        "print(len(new_set))\n",
        "print(len(new_records))"
      ],
      "metadata": {
        "colab": {
          "base_uri": "https://localhost:8080/"
        },
        "id": "boGnEimXxNrX",
        "outputId": "f0f917a4-6ce0-4298-9026-d1850b8ae2e7"
      },
      "execution_count": 275,
      "outputs": [
        {
          "output_type": "stream",
          "name": "stdout",
          "text": [
            "206\n",
            "206\n"
          ]
        }
      ]
    },
    {
      "cell_type": "code",
      "source": [
        "for record in new_records:\n",
        "  if len(record['review'])>0:\n",
        "    if record['review'][0] == '-':\n",
        "      record['review'] = record['review'][1:]\n",
        "  if record['product description'] == 'bag':\n",
        "    record['product description'] = ''"
      ],
      "metadata": {
        "id": "LaKpVCLIEgSl"
      },
      "execution_count": 279,
      "outputs": []
    },
    {
      "cell_type": "code",
      "source": [
        "df = pd.DataFrame(new_records)"
      ],
      "metadata": {
        "id": "-J9OAxUk1P_O"
      },
      "execution_count": 280,
      "outputs": []
    },
    {
      "cell_type": "code",
      "source": [
        "from google.colab import drive\n",
        "drive.mount('/content/drive')\n",
        "df.to_csv('/content/drive/My Drive/data.csv', index=False)"
      ],
      "metadata": {
        "colab": {
          "base_uri": "https://localhost:8080/"
        },
        "id": "iZAjl--_1Fmc",
        "outputId": "9a1d11c0-b51b-43b8-da44-c7ee0021cd28"
      },
      "execution_count": 281,
      "outputs": [
        {
          "output_type": "stream",
          "name": "stdout",
          "text": [
            "Drive already mounted at /content/drive; to attempt to forcibly remount, call drive.mount(\"/content/drive\", force_remount=True).\n"
          ]
        }
      ]
    },
    {
      "cell_type": "code",
      "source": [],
      "metadata": {
        "id": "KpwL5spN2h5e"
      },
      "execution_count": null,
      "outputs": []
    }
  ]
}